{
 "cells": [
  {
   "cell_type": "code",
   "execution_count": 1,
   "id": "51db47ee",
   "metadata": {},
   "outputs": [],
   "source": [
    "import pandas as pd\n",
    "import numpy as np\n",
    "import matplotlib.pyplot as plt\n",
    "\n",
    "import tensorflow as tf\n",
    "from tensorflow import keras\n",
    "from tensorflow.keras.models import Sequential\n",
    "from tensorflow.keras.callbacks import EarlyStopping\n",
    "from tensorflow.keras import layers\n",
    "\n",
    "from sklearn.model_selection import train_test_split\n",
    "from sklearn.preprocessing import StandardScaler\n",
    "from sklearn.preprocessing import Normalizer\n",
    "from sklearn.metrics import r2_score"
   ]
  },
  {
   "cell_type": "code",
   "execution_count": 2,
   "id": "11dae567",
   "metadata": {},
   "outputs": [],
   "source": [
    "df = pd.read_csv('admissions_data.csv')"
   ]
  },
  {
   "cell_type": "code",
   "execution_count": 3,
   "id": "f0bba26e",
   "metadata": {},
   "outputs": [],
   "source": [
    "labels = df.iloc[:, -1]\n",
    "features = df.iloc[:,1:-1]"
   ]
  },
  {
   "cell_type": "code",
   "execution_count": 4,
   "id": "9ffddb07",
   "metadata": {},
   "outputs": [],
   "source": [
    "scaler = StandardScaler()\n",
    "data = scaler.fit_transform(features)\n",
    "features = pd.DataFrame(data)"
   ]
  },
  {
   "cell_type": "code",
   "execution_count": 5,
   "id": "49e866e1",
   "metadata": {},
   "outputs": [],
   "source": [
    "features_train, features_test, labels_train, labels_test = train_test_split(features, labels, test_size=0.33, random_state=42)\n",
    "features_train, features_val, labels_train, labels_val = train_test_split(features, labels, test_size=0.15, random_state=42)"
   ]
  },
  {
   "cell_type": "code",
   "execution_count": 6,
   "id": "61fbfaec",
   "metadata": {},
   "outputs": [],
   "source": [
    "model = Sequential([layers.InputLayer(input_shape=(features_train.shape[1],)),\n",
    "                    layers.Dense(64, activation='relu', name='layer1'),\n",
    "                    layers.Dense(128, activation='relu', name='layer2'),\n",
    "                    layers.Dense(64, activation='relu', name='layer3'),\n",
    "                    layers.Dense(1, name='output')])\n"
   ]
  },
  {
   "cell_type": "code",
   "execution_count": 7,
   "id": "5e13f057",
   "metadata": {},
   "outputs": [],
   "source": [
    "adam = keras.optimizers.Adam(learning_rate=0.001)\n",
    "model.compile(optimizer=adam, loss='mse', metrics='mae')"
   ]
  },
  {
   "cell_type": "code",
   "execution_count": null,
   "id": "84b4a665",
   "metadata": {},
   "outputs": [
    {
     "name": "stdout",
     "output_type": "stream",
     "text": [
      "Epoch 1/200\n",
      "142/142 [==============================] - 1s 2ms/step - loss: 0.0326 - mae: 0.1311 - val_loss: 0.0088 - val_mae: 0.0779\n",
      "Epoch 2/200\n",
      " 30/142 [=====>........................] - ETA: 0s - loss: 0.0080 - mae: 0.0718"
     ]
    }
   ],
   "source": [
    "callback = EarlyStopping(monitor='val_loss', patience=40)\n",
    "history = model.fit(features_train, labels_train, batch_size=3, epochs=200, callbacks=[callback], verbose=1, validation_data=(features_val,labels_val))\n",
    "results = model.evaluate(features_test, labels_test)\n",
    "print(f\"Test results are: {results}\")"
   ]
  },
  {
   "cell_type": "code",
   "execution_count": null,
   "id": "89a06c45",
   "metadata": {},
   "outputs": [],
   "source": [
    "predicted_values = model.predict(features_test)\n",
    "print(f\"R2 score: {r2_score(labels_test, predicted_values)}\")"
   ]
  },
  {
   "cell_type": "code",
   "execution_count": null,
   "id": "4cce153b",
   "metadata": {},
   "outputs": [],
   "source": [
    "fig = plt.figure()\n",
    "ax1 = fig.add_subplot(2, 1, 1)\n",
    "ax1.plot(history.history['mae'])\n",
    "ax1.plot(history.history['val_mae'])\n",
    "ax1.set_title('model mae')\n",
    "ax1.set_ylabel('MAE')\n",
    "ax1.set_xlabel('epoch')\n",
    "ax1.legend(['train', 'validation'], loc='upper left')\n",
    " \n",
    "# Plot loss and val_loss over each epoch\n",
    "ax2 = fig.add_subplot(2, 1, 2)\n",
    "ax2.plot(history.history['loss'])\n",
    "ax2.plot(history.history['val_loss'])\n",
    "ax2.set_title('model loss')\n",
    "ax2.set_ylabel('loss')\n",
    "ax2.set_xlabel('epoch')\n",
    "ax2.legend(['train', 'validation'], loc='upper left')"
   ]
  },
  {
   "cell_type": "code",
   "execution_count": null,
   "id": "29ed7268",
   "metadata": {},
   "outputs": [],
   "source": []
  },
  {
   "cell_type": "code",
   "execution_count": null,
   "id": "77b50b16",
   "metadata": {},
   "outputs": [],
   "source": []
  }
 ],
 "metadata": {
  "kernelspec": {
   "display_name": "Python 3",
   "language": "python",
   "name": "python3"
  },
  "language_info": {
   "codemirror_mode": {
    "name": "ipython",
    "version": 3
   },
   "file_extension": ".py",
   "mimetype": "text/x-python",
   "name": "python",
   "nbconvert_exporter": "python",
   "pygments_lexer": "ipython3",
   "version": "3.8.8"
  }
 },
 "nbformat": 4,
 "nbformat_minor": 5
}
